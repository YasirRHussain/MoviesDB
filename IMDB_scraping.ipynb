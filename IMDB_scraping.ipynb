{
 "cells": [
  {
   "cell_type": "code",
   "execution_count": 1,
   "id": "e8695e60-7635-4723-a234-e6f8c1f2944f",
   "metadata": {},
   "outputs": [],
   "source": [
    "import requests\n",
    "from bs4 import BeautifulSoup\n",
    "import pandas as pd"
   ]
  },
  {
   "cell_type": "code",
   "execution_count": 2,
   "id": "c68fc0c7-bff3-4b11-bd04-9ca198566c8f",
   "metadata": {},
   "outputs": [],
   "source": [
    "# create empty list\n",
    "movie_list = []\n",
    "\n",
    "#Setting the scrapper\n",
    "\n",
    "try:\n",
    "    source = requests.get(\"https://www.imdb.com/search/title/?title_type=feature&release_date=1950-01-01,2020-12-31&groups=top_1000&count=250\")\n",
    "    source.raise_for_status()\n",
    "    soup = BeautifulSoup(source.text,'html.parser')\n",
    "    \n",
    "    movies = soup.findAll('div', attrs= {'class': \"lister-item mode-advanced\"})\n",
    "    \n",
    "    for movie in movies:\n",
    "        \n",
    "        name = movie.h3.a.text\n",
    "        \n",
    "        year = movie.h3.find('span', class_ = \"lister-item-year text-muted unbold\").text.strip('()')\n",
    "        \n",
    "        runtime = movie.p.find('span', class_ = \"runtime\").text.strip('min')\n",
    "        \n",
    "        rating = movie.find('div', class_ = \"inline-block ratings-imdb-rating\").text.replace('\\n', '')\n",
    "        \n",
    "        val = movie.findAll('span', attrs= {'name': 'nv'})\n",
    "        gross = val[1].text if len(val) >1 else \"None\"\n",
    "        \n",
    "        director_elem = movie.find('p', class_='').find('a')\n",
    "        director_name = director_elem.text\n",
    "        \n",
    "        #append movie information to list\n",
    "        movie_list.append({'Name': name, 'Year': year, 'Runtime': runtime, 'Rating': rating, 'Gross': gross, 'Director': director_name})\n",
    "\n",
    "except Exception as e:\n",
    "    print(e)"
   ]
  },
  {
   "cell_type": "code",
   "execution_count": 3,
   "id": "7c9fb571-2c39-4161-8d85-ab6ffabc34b2",
   "metadata": {},
   "outputs": [],
   "source": [
    "# create dataframe from list\n",
    "df = pd.DataFrame(movie_list)"
   ]
  },
  {
   "cell_type": "code",
   "execution_count": 4,
   "id": "15d00261-3793-456a-8bed-cac78c8cfe8d",
   "metadata": {},
   "outputs": [
    {
     "data": {
      "text/html": [
       "<div>\n",
       "<style scoped>\n",
       "    .dataframe tbody tr th:only-of-type {\n",
       "        vertical-align: middle;\n",
       "    }\n",
       "\n",
       "    .dataframe tbody tr th {\n",
       "        vertical-align: top;\n",
       "    }\n",
       "\n",
       "    .dataframe thead th {\n",
       "        text-align: right;\n",
       "    }\n",
       "</style>\n",
       "<table border=\"1\" class=\"dataframe\">\n",
       "  <thead>\n",
       "    <tr style=\"text-align: right;\">\n",
       "      <th></th>\n",
       "      <th>Name</th>\n",
       "      <th>Year</th>\n",
       "      <th>Runtime</th>\n",
       "      <th>Rating</th>\n",
       "      <th>Gross</th>\n",
       "      <th>Director</th>\n",
       "    </tr>\n",
       "  </thead>\n",
       "  <tbody>\n",
       "    <tr>\n",
       "      <th>0</th>\n",
       "      <td>The Godfather</td>\n",
       "      <td>1972</td>\n",
       "      <td>175</td>\n",
       "      <td>9.2</td>\n",
       "      <td>$134.97M</td>\n",
       "      <td>Francis Ford Coppola</td>\n",
       "    </tr>\n",
       "    <tr>\n",
       "      <th>1</th>\n",
       "      <td>The Shawshank Redemption</td>\n",
       "      <td>1994</td>\n",
       "      <td>142</td>\n",
       "      <td>9.3</td>\n",
       "      <td>$28.34M</td>\n",
       "      <td>Frank Darabont</td>\n",
       "    </tr>\n",
       "    <tr>\n",
       "      <th>2</th>\n",
       "      <td>Interstellar</td>\n",
       "      <td>2014</td>\n",
       "      <td>169</td>\n",
       "      <td>8.6</td>\n",
       "      <td>$188.02M</td>\n",
       "      <td>Christopher Nolan</td>\n",
       "    </tr>\n",
       "    <tr>\n",
       "      <th>3</th>\n",
       "      <td>Pulp Fiction</td>\n",
       "      <td>1994</td>\n",
       "      <td>154</td>\n",
       "      <td>8.9</td>\n",
       "      <td>$107.93M</td>\n",
       "      <td>Quentin Tarantino</td>\n",
       "    </tr>\n",
       "    <tr>\n",
       "      <th>4</th>\n",
       "      <td>Guardians of the Galaxy</td>\n",
       "      <td>2014</td>\n",
       "      <td>121</td>\n",
       "      <td>8.0</td>\n",
       "      <td>$333.18M</td>\n",
       "      <td>James Gunn</td>\n",
       "    </tr>\n",
       "  </tbody>\n",
       "</table>\n",
       "</div>"
      ],
      "text/plain": [
       "                       Name  Year Runtime Rating     Gross  \\\n",
       "0             The Godfather  1972    175     9.2  $134.97M   \n",
       "1  The Shawshank Redemption  1994    142     9.3   $28.34M   \n",
       "2              Interstellar  2014    169     8.6  $188.02M   \n",
       "3              Pulp Fiction  1994    154     8.9  $107.93M   \n",
       "4   Guardians of the Galaxy  2014    121     8.0  $333.18M   \n",
       "\n",
       "               Director  \n",
       "0  Francis Ford Coppola  \n",
       "1        Frank Darabont  \n",
       "2     Christopher Nolan  \n",
       "3     Quentin Tarantino  \n",
       "4            James Gunn  "
      ]
     },
     "execution_count": 4,
     "metadata": {},
     "output_type": "execute_result"
    }
   ],
   "source": [
    "df.head()"
   ]
  },
  {
   "cell_type": "code",
   "execution_count": 5,
   "id": "2af8ac15-11b2-4daf-95bb-9a74cd9a8570",
   "metadata": {},
   "outputs": [],
   "source": [
    "df.to_csv('IMDB_topmovies_1950to2020.csv', index=False)"
   ]
  }
 ],
 "metadata": {
  "kernelspec": {
   "display_name": "Python 3 (ipykernel)",
   "language": "python",
   "name": "python3"
  },
  "language_info": {
   "codemirror_mode": {
    "name": "ipython",
    "version": 3
   },
   "file_extension": ".py",
   "mimetype": "text/x-python",
   "name": "python",
   "nbconvert_exporter": "python",
   "pygments_lexer": "ipython3",
   "version": "3.10.11"
  }
 },
 "nbformat": 4,
 "nbformat_minor": 5
}
